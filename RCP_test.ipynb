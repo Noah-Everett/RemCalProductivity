{
 "cells": [
  {
   "cell_type": "code",
   "execution_count": 66,
   "metadata": {},
   "outputs": [],
   "source": [
    "import re\n",
    "import subprocess"
   ]
  },
  {
   "cell_type": "code",
   "execution_count": 67,
   "metadata": {},
   "outputs": [],
   "source": [
    "# Settings\n",
    "endDate = \"(current date) + 1 * days\""
   ]
  },
  {
   "cell_type": "code",
   "execution_count": 81,
   "metadata": {},
   "outputs": [
    {
     "name": "stdout",
     "output_type": "stream",
     "text": [
      "PP Paper, AC HW 1.5, 1.6, FS Paper, Look at reco code, ANNIE collaboration, AC office hr\n",
      "date Tuesday, September 12, 2023 at 12:00:00 AM, date Monday, September 11, 2023 at 12:00:00 AM, date Tuesday, September 12, 2023 at 12:00:00 AM, date Monday, September 11, 2023 at 12:00:00 AM, date Monday, September 11, 2023 at 12:00:00 AM, date Monday, September 11, 2023 at 12:00:00 AM\n"
     ]
    }
   ],
   "source": [
    "# Set the AppleScript to get reminders\n",
    "applescript_reminders_names = \"\"\"\n",
    "tell application \"Reminders\"\n",
    "\tset remindersListName to name of reminders whose due date ≤ \"\"\" + endDate + \"\"\" and completed is false\n",
    "\treturn remindersListName\n",
    "end tell\n",
    "\"\"\"\n",
    "\n",
    "applescript_reminders_dates = \"\"\"\n",
    "tell application \"Reminders\"\n",
    "    set remindersListDate to due date of reminders whose due date ≤ \"\"\" + endDate + \"\"\" and completed is false\n",
    "    return remindersListDate\n",
    "end tell\n",
    "\"\"\"\n",
    "\n",
    "# Run the AppleScript using osascript\n",
    "try:\n",
    "    reminders_names = subprocess.run([\"osascript\", \"-e\", applescript_reminders_names], capture_output=True, text=True, check=True)\n",
    "    reminders_names = reminders_names.stdout.strip()\n",
    "    print(reminders_names)\n",
    "except subprocess.CalledProcessError as e:\n",
    "    print(\"Error running AppleScript:\", e)\n",
    "\n",
    "try:\n",
    "    reminders_dates = subprocess.run([\"osascript\", \"-e\", applescript_reminders_dates], capture_output=True, text=True, check=True)\n",
    "    reminders_dates = reminders_dates.stdout.strip()\n",
    "    print(reminders_dates)\n",
    "except subprocess.CalledProcessError as e:\n",
    "    print(\"Error running AppleScript:\", e)\n"
   ]
  },
  {
   "cell_type": "code",
   "execution_count": 92,
   "metadata": {},
   "outputs": [
    {
     "name": "stdout",
     "output_type": "stream",
     "text": [
      "Error running AppleScript: Command '['osascript', '-e', '\\ntell application \"Calendar\"\\n    set today to current date\\n    set startTime to today - (time of today)\\n    set endTime to today + (1 * days) - (time of today)\\n    set calendarEvents to name of event whose start date ≥ startTime and start date ≤ endTime\\n    return calendarEvents\\nend tell\\n']' returned non-zero exit status 1.\n"
     ]
    }
   ],
   "source": [
    "# Set the AppleScript to get reminders\n",
    "applescript_calender_names = \"\"\"\n",
    "tell application \"Calendar\"\n",
    "    set today to current date\n",
    "    set startTime to today - (time of today)\n",
    "    set endTime to today + (1 * days) - (time of today)\n",
    "    set calendarEvents to name of event whose start date ≥ startTime and start date ≤ endTime\n",
    "    return calendarEvents\n",
    "end tell\n",
    "\"\"\"\n",
    "#     repeat with anEvent in calendarEvents\n",
    "#         set eventSummary to summary of anEvent\n",
    "#         set eventStartDate to start date of anEvent\n",
    "#         set eventEndDate to end date of anEvent\n",
    "#         display dialog \"Event: \" & eventSummary & return & \"Starts: \" & eventStartDate & return & \"Ends: \" & eventEndDate\n",
    "#     end repeat\n",
    "# end tell\n",
    "\n",
    "# Run the AppleScript using osascript\n",
    "try:\n",
    "    calender_names = subprocess.run([\"osascript\", \"-e\", applescript_calender_names], capture_output=True, text=True, check=True)\n",
    "    calender_names = calender_names.stdout.strip()\n",
    "    print(calender_names)\n",
    "except subprocess.CalledProcessError as e:\n",
    "    print(\"Error running AppleScript:\", e)"
   ]
  },
  {
   "cell_type": "code",
   "execution_count": 88,
   "metadata": {},
   "outputs": [],
   "source": [
    "import copy\n",
    "data = copy.deepcopy(output)\n",
    "# names_temp = copy.deepcopy(names)\n",
    "names = copy.deepcopy(names_temp)\n",
    "# dates_temp = copy.deepcopy(dates)\n",
    "dates = copy.deepcopy(dates_temp)"
   ]
  },
  {
   "cell_type": "code",
   "execution_count": 89,
   "metadata": {},
   "outputs": [
    {
     "ename": "ValueError",
     "evalue": "The number of names and dates do not match.",
     "output_type": "error",
     "traceback": [
      "\u001b[0;31m---------------------------------------------------------------------------\u001b[0m",
      "\u001b[0;31mValueError\u001b[0m                                Traceback (most recent call last)",
      "Cell \u001b[0;32mIn[89], line 5\u001b[0m\n\u001b[1;32m      2\u001b[0m dates \u001b[39m=\u001b[39m dates\u001b[39m.\u001b[39msplit(\u001b[39m'\u001b[39m\u001b[39m, date \u001b[39m\u001b[39m'\u001b[39m)\n\u001b[1;32m      4\u001b[0m \u001b[39mif\u001b[39;00m \u001b[39mlen\u001b[39m(names) \u001b[39m!=\u001b[39m \u001b[39mlen\u001b[39m(dates):\n\u001b[0;32m----> 5\u001b[0m     \u001b[39mraise\u001b[39;00m \u001b[39mValueError\u001b[39;00m(\u001b[39m'\u001b[39m\u001b[39mThe number of names and dates do not match.\u001b[39m\u001b[39m'\u001b[39m)\n\u001b[1;32m      7\u001b[0m \u001b[39mprint\u001b[39m(names)\n\u001b[1;32m      8\u001b[0m \u001b[39mprint\u001b[39m(\u001b[39mlen\u001b[39m(names))\n",
      "\u001b[0;31mValueError\u001b[0m: The number of names and dates do not match."
     ]
    }
   ],
   "source": [
    "names = names.split(', ')\n",
    "dates = dates.split(', date ')\n",
    "\n",
    "if len(names) != len(dates):\n",
    "    raise ValueError('The number of names and dates do not match.')"
   ]
  }
 ],
 "metadata": {
  "kernelspec": {
   "display_name": "ReminderCalender",
   "language": "python",
   "name": "python3"
  },
  "language_info": {
   "codemirror_mode": {
    "name": "ipython",
    "version": 3
   },
   "file_extension": ".py",
   "mimetype": "text/x-python",
   "name": "python",
   "nbconvert_exporter": "python",
   "pygments_lexer": "ipython3",
   "version": "3.11.4"
  },
  "orig_nbformat": 4
 },
 "nbformat": 4,
 "nbformat_minor": 2
}
